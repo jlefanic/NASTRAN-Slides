{
 "cells": [
  {
   "cell_type": "markdown",
   "metadata": {},
   "source": [
    "# NASTRAN - Case Study 1.0 (SOL 101 Cantilever Beam)"
   ]
  },
  {
   "cell_type": "markdown",
   "metadata": {},
   "source": [
    "The graph from `Lecture_1.pdf` (Slide 89/116) is built hereafter with a pyNastran usage to recover data and then matplotlib."
   ]
  },
  {
   "cell_type": "markdown",
   "metadata": {},
   "source": [
    "## 1. Classical Stuff"
   ]
  },
  {
   "cell_type": "code",
   "execution_count": 1,
   "metadata": {},
   "outputs": [],
   "source": [
    "import numpy as np\n",
    "import pandas as pd\n",
    "pd.set_option('precision',1)\n",
    "import matplotlib.pyplot as plt\n",
    "import matplotlib.patches as mpatches\n",
    "from pyNastran.op2.op2 import OP2"
   ]
  },
  {
   "cell_type": "markdown",
   "metadata": {},
   "source": [
    "## 2. pyNastran Section "
   ]
  },
  {
   "cell_type": "code",
   "execution_count": 2,
   "metadata": {},
   "outputs": [
    {
     "name": "stdout",
     "output_type": "stream",
     "text": [
      "DEBUG:     fname=op2.py                    lineNo=365    combine=True\n",
      "DEBUG:     fname=op2.py                    lineNo=366    -------- reading op2 with read_mode=1 --------\n",
      "INFO:      fname=op2_scalar.py             lineNo=1175   op2_filename = 'SOL101_Case_Study_1.op2'\n",
      "DEBUG:     fname=op2_scalar.py             lineNo=1363     table_name='GEOM1'\n",
      "DEBUG:     fname=op2_scalar.py             lineNo=1363     table_name='GEOM2'\n",
      "DEBUG:     fname=op2_scalar.py             lineNo=1363     table_name='GEOM3'\n",
      "DEBUG:     fname=op2_scalar.py             lineNo=1363     table_name='GEOM4'\n",
      "DEBUG:     fname=op2_scalar.py             lineNo=1363     table_name='EPT'\n",
      "DEBUG:     fname=op2_scalar.py             lineNo=1363     table_name='MPTS'\n",
      "DEBUG:     fname=op2_scalar.py             lineNo=1363     table_name='OQG1'\n",
      "DEBUG:     fname=op2_scalar.py             lineNo=1363     table_name='OQMG1'\n",
      "DEBUG:     fname=op2_scalar.py             lineNo=1363     table_name='OUGV1'\n",
      "DEBUG:     fname=op2_scalar.py             lineNo=1363     table_name='OGPFB1'\n",
      "DEBUG:     fname=op2_scalar.py             lineNo=1363     table_name='ONRGY1'\n",
      "DEBUG:     fname=op2_scalar.py             lineNo=1363     table_name='OEF1X'\n",
      "DEBUG:     fname=op2_scalar.py             lineNo=1363     table_name='OES1X1'\n",
      "DEBUG:     fname=op2_scalar.py             lineNo=1363     table_name='OSTR1X'\n",
      "DEBUG:     fname=op2_scalar.py             lineNo=1363     table_name='OPG1'\n",
      "DEBUG:     fname=op2.py                    lineNo=378    -------- reading op2 with read_mode=2 --------\n",
      "DEBUG:     fname=op2_scalar.py             lineNo=1363     table_name='GEOM1'\n",
      "DEBUG:     fname=op2_scalar.py             lineNo=1363     table_name='GEOM2'\n",
      "DEBUG:     fname=op2_scalar.py             lineNo=1363     table_name='GEOM3'\n",
      "DEBUG:     fname=op2_scalar.py             lineNo=1363     table_name='GEOM4'\n",
      "DEBUG:     fname=op2_scalar.py             lineNo=1363     table_name='EPT'\n",
      "DEBUG:     fname=op2_scalar.py             lineNo=1363     table_name='MPTS'\n",
      "DEBUG:     fname=op2_scalar.py             lineNo=1363     table_name='OQG1'\n",
      "DEBUG:     fname=op2_scalar.py             lineNo=1363     table_name='OQMG1'\n",
      "DEBUG:     fname=op2_scalar.py             lineNo=1363     table_name='OUGV1'\n",
      "DEBUG:     fname=op2_scalar.py             lineNo=1363     table_name='OGPFB1'\n",
      "DEBUG:     fname=op2_scalar.py             lineNo=1363     table_name='ONRGY1'\n",
      "DEBUG:     fname=op2_scalar.py             lineNo=1363     table_name='OEF1X'\n",
      "DEBUG:     fname=op2_scalar.py             lineNo=1363     table_name='OES1X1'\n",
      "DEBUG:     fname=op2_scalar.py             lineNo=1363     table_name='OSTR1X'\n",
      "DEBUG:     fname=op2_scalar.py             lineNo=1363     table_name='OPG1'\n",
      "DEBUG:     fname=op2.py                    lineNo=495    combine_results\n",
      "DEBUG:     fname=op2.py                    lineNo=385    finished reading op2\n"
     ]
    }
   ],
   "source": [
    "op2=OP2()\n",
    "op2.read_op2('SOL101_Case_Study_1.op2',build_dataframe=True)"
   ]
  },
  {
   "cell_type": "code",
   "execution_count": 3,
   "metadata": {},
   "outputs": [
    {
     "name": "stdout",
     "output_type": "stream",
     "text": [
      "displacements[1000]\n",
      "  isubcase = 1000\n",
      "  type=RealDisplacementArray nnodes=9\n",
      "  data: [t1, t2, t3, r1, r2, r3] shape=[1, 9, 6] dtype=float32\n",
      "  gridTypes\n",
      "  sort1\n",
      "  lsdvmns = [1000]\n",
      "\n",
      "spc_forces[1000]\n",
      "  isubcase = 1000\n",
      "  type=RealSPCForcesArray nnodes=9\n",
      "  data: [t1, t2, t3, r1, r2, r3] shape=[1, 9, 6] dtype=float32\n",
      "  gridTypes\n",
      "  sort1\n",
      "  lsdvmns = [1000]\n",
      "\n",
      "mpc_forces[1000]\n",
      "  isubcase = 1000\n",
      "  type=RealMPCForcesArray nnodes=9\n",
      "  data: [t1, t2, t3, r1, r2, r3] shape=[1, 9, 6] dtype=float32\n",
      "  gridTypes\n",
      "  sort1\n",
      "  lsdvmns = [1000]\n",
      "\n",
      "grid_point_forces[1000]\n",
      "  type=RealGridPointForcesArray nelements=1 total=27\n",
      "  data: [1, ntotal, 6] where 6=[f1, f2, f3, m1, m2, m3]\n",
      "  data.shape=(1L, 27L, 6L)\n",
      "  element type: *TOTALS*, APP-LOAD, BEAM, F-OF-SPC\n",
      "  sort1\n",
      "  lsdvmns = [0]\n",
      "\n",
      "load_vectors[1000]\n",
      "  isubcase = 1000\n",
      "  type=RealLoadVectorArray nnodes=9\n",
      "  data: [t1, t2, t3, r1, r2, r3] shape=[1, 9, 6] dtype=float32\n",
      "  gridTypes\n",
      "  sort1\n",
      "  lsdvmns = [1000]\n",
      "\n",
      "cbeam_stress[1000]\n",
      "  type=RealBeamStressArray nelements=8 nnodes_per_element=10 ntotal=88\n",
      "  data: [1, ntotal, 8] where 8=[sxc, sxd, sxe, sxf, smax, smin, MS_tension, MS_compression]\n",
      "  data.shape = (1, 16, 8)\n",
      "  element type: CBEAM\n",
      "  sort1\n",
      "  lsdvmns = [1000]\n",
      "\n",
      "cbeam_strain[1000]\n",
      "  type=RealBeamStrainArray nelements=8 nnodes_per_element=10 ntotal=88\n",
      "  data: [1, ntotal, 8] where 8=[sxc, sxd, sxe, sxf, smax, smin, MS_tension, MS_compression]\n",
      "  data.shape = (1, 16, 8)\n",
      "  element type: CBEAM\n",
      "  sort1\n",
      "  lsdvmns = [1000]\n",
      "\n",
      "cbeam_force[1000]\n",
      "  type=RealCBeamForceArray nelements=8\n",
      "  data: [ntimes, nelements, 8] where 8=[sd, bending_moment1, bending_moment2, shear1, shear2, axial_force, total_torque, warping_torque]\n",
      "  data.shape = (1, 16, 8)\n",
      "  is_sort1=True is_sort2=False\n",
      "  CBEAM\n",
      "  sort1\n",
      "  loadIDs = [1000]\n",
      "\n",
      "cbeam_strain_energy[1000]\n",
      "  type=RealStrainEnergyArray nelements=9\n",
      "  data: [1, nelements, 3] where 3=[strain_energy, percent, strain_energy_density]\n",
      "  data.shape = (1, 9, 3)\n",
      "sort1\n",
      "  lsdvmns = [0]\n",
      "\n",
      "\n"
     ]
    }
   ],
   "source": [
    "print(op2.get_op2_stats())"
   ]
  },
  {
   "cell_type": "markdown",
   "metadata": {},
   "source": [
    "## 3. Data wrangling  ¯\\\\\\_(ツ)\\_/¯"
   ]
  },
  {
   "cell_type": "code",
   "execution_count": 4,
   "metadata": {},
   "outputs": [],
   "source": [
    "# The Cantilever Beam mesh written as a numpy array\n",
    "x=np.linspace(0., 2000.0, num=9)\n",
    "# The vertical displacement v read from the op2 (pyNastran object)\n",
    "v=np.array([0])\n",
    "for i in range(1,9):\n",
    "    v=np.append(v,op2.displacements[1000].data_frame.loc[i][3])"
   ]
  },
  {
   "cell_type": "markdown",
   "metadata": {},
   "source": [
    "## 4. Simple Matplotlib Visualization"
   ]
  },
  {
   "cell_type": "code",
   "execution_count": 5,
   "metadata": {},
   "outputs": [
    {
     "name": "stderr",
     "output_type": "stream",
     "text": [
      "E:\\Program\\Anaconda2\\lib\\site-packages\\matplotlib\\figure.py:418: UserWarning: matplotlib is currently using a non-GUI backend, so cannot show the figure\n",
      "  \"matplotlib is currently using a non-GUI backend, \"\n"
     ]
    },
    {
     "data": {
      "image/png": "[encoded data removed]",
      "text/plain": [
       "<matplotlib.figure.Figure at 0x9e19eb8>"
      ]
     },
     "metadata": {},
     "output_type": "display_data"
    }
   ],
   "source": [
    "fig = plt.figure()\n",
    "ax = fig.add_axes((0.2, 0.2, 2., 2.))\n",
    "ax.grid(color='grey', linestyle='--', linewidth=0.5)\n",
    "ax.scatter(x,v,color=['teal'],marker='o', label='NASTRAN output\\n read from .op2')\n",
    "ax.set_xlabel ('x [mm]')\n",
    "ax.set_ylabel ('v [mm]')\n",
    "plt.legend(loc=3)\n",
    "fig.show()"
   ]
  },
  {
   "cell_type": "markdown",
   "metadata": {},
   "source": [
    "# The end of the notebook."
   ]
  }
 ],
 "metadata": {
  "kernelspec": {
   "display_name": "Python [conda env:Anaconda2]",
   "language": "python",
   "name": "conda-env-Anaconda2-py"
  },
  "language_info": {
   "codemirror_mode": {
    "name": "ipython",
    "version": 2
   },
   "file_extension": ".py",
   "mimetype": "text/x-python",
   "name": "python",
   "nbconvert_exporter": "python",
   "pygments_lexer": "ipython2",
   "version": "2.7.14"
  }
 },
 "nbformat": 4,
 "nbformat_minor": 2
}
